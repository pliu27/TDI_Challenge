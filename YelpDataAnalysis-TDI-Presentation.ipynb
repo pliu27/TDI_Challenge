{
 "cells": [
  {
   "cell_type": "code",
   "execution_count": 1,
   "metadata": {
    "collapsed": true
   },
   "outputs": [],
   "source": [
    "%matplotlib inline\n",
    "\n",
    "import matplotlib \n",
    "import numpy as np\n",
    "import matplotlib.pyplot as plt"
   ]
  },
  {
   "cell_type": "code",
   "execution_count": 2,
   "metadata": {
    "collapsed": true
   },
   "outputs": [],
   "source": [
    "import pandas as pd\n",
    "import json"
   ]
  },
  {
   "cell_type": "code",
   "execution_count": 3,
   "metadata": {
    "collapsed": true
   },
   "outputs": [],
   "source": [
    "df_review = pd.read_json('review-sample-100k.json', lines = True)"
   ]
  },
  {
   "cell_type": "code",
   "execution_count": 5,
   "metadata": {},
   "outputs": [],
   "source": [
    "rating = df_review['stars'].value_counts().sort_index()\n",
    "rating_pct = 100.0*rating/sum(rating)"
   ]
  },
  {
   "cell_type": "markdown",
   "metadata": {},
   "source": [
    "# Linear Regression: Word Count and Star Rating"
   ]
  },
  {
   "cell_type": "code",
   "execution_count": 6,
   "metadata": {
    "collapsed": true
   },
   "outputs": [],
   "source": [
    "# Count number of words for each review\n",
    "df_review['word_count'] = df_review['text'].apply(lambda x: len(x.split()))\n",
    "word_by_rating = df_review.groupby(['stars']).agg({'word_count':np.mean})"
   ]
  },
  {
   "cell_type": "code",
   "execution_count": 7,
   "metadata": {},
   "outputs": [
    {
     "name": "stderr",
     "output_type": "stream",
     "text": [
      "/Users/liupei-pei/anaconda/lib/python2.7/site-packages/statsmodels/compat/pandas.py:56: FutureWarning: The pandas.core.datetools module is deprecated and will be removed in a future version. Please use the pandas.tseries module instead.\n",
      "  from pandas.core import datetools\n"
     ]
    },
    {
     "data": {
      "text/html": [
       "<table class=\"simpletable\">\n",
       "<caption>OLS Regression Results</caption>\n",
       "<tr>\n",
       "  <th>Dep. Variable:</th>       <td>word_count</td>    <th>  R-squared:         </th>  <td>   0.042</td>  \n",
       "</tr>\n",
       "<tr>\n",
       "  <th>Model:</th>                   <td>OLS</td>       <th>  Adj. R-squared:    </th>  <td>   0.042</td>  \n",
       "</tr>\n",
       "<tr>\n",
       "  <th>Method:</th>             <td>Least Squares</td>  <th>  F-statistic:       </th>  <td>   4433.</td>  \n",
       "</tr>\n",
       "<tr>\n",
       "  <th>Date:</th>             <td>Sun, 13 May 2018</td> <th>  Prob (F-statistic):</th>   <td>  0.00</td>   \n",
       "</tr>\n",
       "<tr>\n",
       "  <th>Time:</th>                 <td>20:17:50</td>     <th>  Log-Likelihood:    </th> <td>-6.0473e+05</td>\n",
       "</tr>\n",
       "<tr>\n",
       "  <th>No. Observations:</th>      <td>100000</td>      <th>  AIC:               </th>  <td>1.209e+06</td> \n",
       "</tr>\n",
       "<tr>\n",
       "  <th>Df Residuals:</th>          <td> 99998</td>      <th>  BIC:               </th>  <td>1.209e+06</td> \n",
       "</tr>\n",
       "<tr>\n",
       "  <th>Df Model:</th>              <td>     1</td>      <th>                     </th>      <td> </td>     \n",
       "</tr>\n",
       "<tr>\n",
       "  <th>Covariance Type:</th>      <td>nonrobust</td>    <th>                     </th>      <td> </td>     \n",
       "</tr>\n",
       "</table>\n",
       "<table class=\"simpletable\">\n",
       "<tr>\n",
       "    <td></td>       <th>coef</th>     <th>std err</th>      <th>t</th>      <th>P>|t|</th>  <th>[0.025</th>    <th>0.975]</th>  \n",
       "</tr>\n",
       "<tr>\n",
       "  <th>const</th> <td>  169.8550</td> <td>    0.915</td> <td>  185.675</td> <td> 0.000</td> <td>  168.062</td> <td>  171.648</td>\n",
       "</tr>\n",
       "<tr>\n",
       "  <th>stars</th> <td>  -15.2120</td> <td>    0.228</td> <td>  -66.580</td> <td> 0.000</td> <td>  -15.660</td> <td>  -14.764</td>\n",
       "</tr>\n",
       "</table>\n",
       "<table class=\"simpletable\">\n",
       "<tr>\n",
       "  <th>Omnibus:</th>       <td>55242.360</td> <th>  Durbin-Watson:     </th>  <td>   1.431</td> \n",
       "</tr>\n",
       "<tr>\n",
       "  <th>Prob(Omnibus):</th>  <td> 0.000</td>   <th>  Jarque-Bera (JB):  </th> <td>532432.700</td>\n",
       "</tr>\n",
       "<tr>\n",
       "  <th>Skew:</th>           <td> 2.515</td>   <th>  Prob(JB):          </th>  <td>    0.00</td> \n",
       "</tr>\n",
       "<tr>\n",
       "  <th>Kurtosis:</th>       <td>13.124</td>   <th>  Cond. No.          </th>  <td>    11.9</td> \n",
       "</tr>\n",
       "</table>"
      ],
      "text/plain": [
       "<class 'statsmodels.iolib.summary.Summary'>\n",
       "\"\"\"\n",
       "                            OLS Regression Results                            \n",
       "==============================================================================\n",
       "Dep. Variable:             word_count   R-squared:                       0.042\n",
       "Model:                            OLS   Adj. R-squared:                  0.042\n",
       "Method:                 Least Squares   F-statistic:                     4433.\n",
       "Date:                Sun, 13 May 2018   Prob (F-statistic):               0.00\n",
       "Time:                        20:17:50   Log-Likelihood:            -6.0473e+05\n",
       "No. Observations:              100000   AIC:                         1.209e+06\n",
       "Df Residuals:                   99998   BIC:                         1.209e+06\n",
       "Df Model:                           1                                         \n",
       "Covariance Type:            nonrobust                                         \n",
       "==============================================================================\n",
       "                 coef    std err          t      P>|t|      [0.025      0.975]\n",
       "------------------------------------------------------------------------------\n",
       "const        169.8550      0.915    185.675      0.000     168.062     171.648\n",
       "stars        -15.2120      0.228    -66.580      0.000     -15.660     -14.764\n",
       "==============================================================================\n",
       "Omnibus:                    55242.360   Durbin-Watson:                   1.431\n",
       "Prob(Omnibus):                  0.000   Jarque-Bera (JB):           532432.700\n",
       "Skew:                           2.515   Prob(JB):                         0.00\n",
       "Kurtosis:                      13.124   Cond. No.                         11.9\n",
       "==============================================================================\n",
       "\n",
       "Warnings:\n",
       "[1] Standard Errors assume that the covariance matrix of the errors is correctly specified.\n",
       "\"\"\""
      ]
     },
     "execution_count": 7,
     "metadata": {},
     "output_type": "execute_result"
    }
   ],
   "source": [
    "# Simple linear regression to examine the relationship between star rating and word counts \n",
    "import statsmodels.api as sm\n",
    "x = df_review['stars']\n",
    "y = df_review['word_count']\n",
    "x = sm.add_constant(x)\n",
    "model = sm.OLS(y, x).fit()\n",
    "model.summary()"
   ]
  },
  {
   "cell_type": "markdown",
   "metadata": {},
   "source": [
    "# Figure 1: Word Count and Star Rating"
   ]
  },
  {
   "cell_type": "code",
   "execution_count": 8,
   "metadata": {},
   "outputs": [
    {
     "data": {
      "text/plain": [
       "[<matplotlib.lines.Line2D at 0x116e6f690>]"
      ]
     },
     "execution_count": 8,
     "metadata": {},
     "output_type": "execute_result"
    },
    {
     "data": {
      "image/png": "[encoded data removed]",
      "text/plain": [
       "<matplotlib.figure.Figure at 0x13b3f51d0>"
      ]
     },
     "metadata": {},
     "output_type": "display_data"
    }
   ],
   "source": [
    "# Now plot!\n",
    "colors = plt.cm.BuPu(np.linspace(0.3,0.7,len(rating_pct))) # use pretty colorspace\n",
    "plot2 = plt.bar(word_by_rating.index, word_by_rating.values, color = colors)\n",
    "plt.xlabel('Star Rating')\n",
    "plt.ylabel('Mean Word Numbers')\n",
    "plt.title('Average Number of Words in Reviews')\n",
    "\n",
    "Beta0, Beta1 = model.params\n",
    "X_plot = np.linspace(1,5,5)\n",
    "plt.plot(X_plot, X_plot*Beta1 + Beta0, linewidth = 3.0)\n"
   ]
  },
  {
   "cell_type": "markdown",
   "metadata": {
    "collapsed": true
   },
   "source": [
    "# Combining Reviews with Restaurant IDs"
   ]
  },
  {
   "cell_type": "code",
   "execution_count": 9,
   "metadata": {
    "collapsed": true
   },
   "outputs": [],
   "source": [
    "df_restuarant = pd.read_json('business.json', lines = True)"
   ]
  },
  {
   "cell_type": "code",
   "execution_count": 10,
   "metadata": {
    "collapsed": true
   },
   "outputs": [],
   "source": [
    "df_review = df_review.rename(columns = {\"stars\": \"stars_review\"})\n",
    "df_complete = pd.merge(df_review,df_restuarant, on = 'business_id')"
   ]
  },
  {
   "cell_type": "markdown",
   "metadata": {},
   "source": [
    "# Linear Regression: Sentence Count and Star Rating"
   ]
  },
  {
   "cell_type": "code",
   "execution_count": 11,
   "metadata": {
    "collapsed": true
   },
   "outputs": [],
   "source": [
    "from nltk import tokenize\n",
    "df_complete['sent_count'] = df_complete['text'].apply(lambda x: len(tokenize.sent_tokenize(x)))\n",
    "sent_by_rating = df_complete.groupby(['stars_review']).agg({'sent_count':np.mean})\n"
   ]
  },
  {
   "cell_type": "code",
   "execution_count": 12,
   "metadata": {},
   "outputs": [
    {
     "data": {
      "text/html": [
       "<table class=\"simpletable\">\n",
       "<caption>OLS Regression Results</caption>\n",
       "<tr>\n",
       "  <th>Dep. Variable:</th>       <td>sent_count</td>    <th>  R-squared:         </th>  <td>   0.026</td>  \n",
       "</tr>\n",
       "<tr>\n",
       "  <th>Model:</th>                   <td>OLS</td>       <th>  Adj. R-squared:    </th>  <td>   0.026</td>  \n",
       "</tr>\n",
       "<tr>\n",
       "  <th>Method:</th>             <td>Least Squares</td>  <th>  F-statistic:       </th>  <td>   2666.</td>  \n",
       "</tr>\n",
       "<tr>\n",
       "  <th>Date:</th>             <td>Sun, 13 May 2018</td> <th>  Prob (F-statistic):</th>   <td>  0.00</td>   \n",
       "</tr>\n",
       "<tr>\n",
       "  <th>Time:</th>                 <td>20:20:59</td>     <th>  Log-Likelihood:    </th> <td>-3.2841e+05</td>\n",
       "</tr>\n",
       "<tr>\n",
       "  <th>No. Observations:</th>      <td>100000</td>      <th>  AIC:               </th>  <td>6.568e+05</td> \n",
       "</tr>\n",
       "<tr>\n",
       "  <th>Df Residuals:</th>          <td> 99998</td>      <th>  BIC:               </th>  <td>6.568e+05</td> \n",
       "</tr>\n",
       "<tr>\n",
       "  <th>Df Model:</th>              <td>     1</td>      <th>                     </th>      <td> </td>     \n",
       "</tr>\n",
       "<tr>\n",
       "  <th>Covariance Type:</th>      <td>nonrobust</td>    <th>                     </th>      <td> </td>     \n",
       "</tr>\n",
       "</table>\n",
       "<table class=\"simpletable\">\n",
       "<tr>\n",
       "        <td></td>          <th>coef</th>     <th>std err</th>      <th>t</th>      <th>P>|t|</th>  <th>[0.025</th>    <th>0.975]</th>  \n",
       "</tr>\n",
       "<tr>\n",
       "  <th>const</th>        <td>   10.9974</td> <td>    0.058</td> <td>  190.550</td> <td> 0.000</td> <td>   10.884</td> <td>   11.111</td>\n",
       "</tr>\n",
       "<tr>\n",
       "  <th>stars_review</th> <td>   -0.7442</td> <td>    0.014</td> <td>  -51.629</td> <td> 0.000</td> <td>   -0.772</td> <td>   -0.716</td>\n",
       "</tr>\n",
       "</table>\n",
       "<table class=\"simpletable\">\n",
       "<tr>\n",
       "  <th>Omnibus:</th>       <td>55145.206</td> <th>  Durbin-Watson:     </th>  <td>   1.812</td> \n",
       "</tr>\n",
       "<tr>\n",
       "  <th>Prob(Omnibus):</th>  <td> 0.000</td>   <th>  Jarque-Bera (JB):  </th> <td>569627.021</td>\n",
       "</tr>\n",
       "<tr>\n",
       "  <th>Skew:</th>           <td> 2.480</td>   <th>  Prob(JB):          </th>  <td>    0.00</td> \n",
       "</tr>\n",
       "<tr>\n",
       "  <th>Kurtosis:</th>       <td>13.588</td>   <th>  Cond. No.          </th>  <td>    11.9</td> \n",
       "</tr>\n",
       "</table>"
      ],
      "text/plain": [
       "<class 'statsmodels.iolib.summary.Summary'>\n",
       "\"\"\"\n",
       "                            OLS Regression Results                            \n",
       "==============================================================================\n",
       "Dep. Variable:             sent_count   R-squared:                       0.026\n",
       "Model:                            OLS   Adj. R-squared:                  0.026\n",
       "Method:                 Least Squares   F-statistic:                     2666.\n",
       "Date:                Sun, 13 May 2018   Prob (F-statistic):               0.00\n",
       "Time:                        20:20:59   Log-Likelihood:            -3.2841e+05\n",
       "No. Observations:              100000   AIC:                         6.568e+05\n",
       "Df Residuals:                   99998   BIC:                         6.568e+05\n",
       "Df Model:                           1                                         \n",
       "Covariance Type:            nonrobust                                         \n",
       "================================================================================\n",
       "                   coef    std err          t      P>|t|      [0.025      0.975]\n",
       "--------------------------------------------------------------------------------\n",
       "const           10.9974      0.058    190.550      0.000      10.884      11.111\n",
       "stars_review    -0.7442      0.014    -51.629      0.000      -0.772      -0.716\n",
       "==============================================================================\n",
       "Omnibus:                    55145.206   Durbin-Watson:                   1.812\n",
       "Prob(Omnibus):                  0.000   Jarque-Bera (JB):           569627.021\n",
       "Skew:                           2.480   Prob(JB):                         0.00\n",
       "Kurtosis:                      13.588   Cond. No.                         11.9\n",
       "==============================================================================\n",
       "\n",
       "Warnings:\n",
       "[1] Standard Errors assume that the covariance matrix of the errors is correctly specified.\n",
       "\"\"\""
      ]
     },
     "execution_count": 12,
     "metadata": {},
     "output_type": "execute_result"
    }
   ],
   "source": [
    "# Testing number of sentence and rating\n",
    "import statsmodels.api as sm\n",
    "x3 = df_complete['stars_review']\n",
    "y3 = df_complete['sent_count']\n",
    "x3 = sm.add_constant(x3)\n",
    "model3 = sm.OLS(y3, x3).fit()\n",
    "model3.summary()"
   ]
  },
  {
   "cell_type": "markdown",
   "metadata": {},
   "source": [
    "# Figure 2: Sentence Count and Star Rating"
   ]
  },
  {
   "cell_type": "code",
   "execution_count": 50,
   "metadata": {},
   "outputs": [
    {
     "data": {
      "text/plain": [
       "[<matplotlib.lines.Line2D at 0x11b666fd0>]"
      ]
     },
     "execution_count": 50,
     "metadata": {},
     "output_type": "execute_result"
    },
    {
     "data": {
      "image/png": "[encoded data removed]",
      "text/plain": [
       "<matplotlib.figure.Figure at 0x121e70110>"
      ]
     },
     "metadata": {},
     "output_type": "display_data"
    }
   ],
   "source": [
    "# Plot\n",
    "colors = plt.cm.BuPu(np.linspace(0.4,0.7,len(sent_by_rating)))\n",
    "plot4 = plt.bar(sent_by_rating.index, sent_by_rating.values, color = colors)\n",
    "plt.xlabel('Star Rating')\n",
    "plt.ylabel('Mean Sentence Numbers')\n",
    "plt.title('Average Number of Sentences in Reviews')\n",
    "\n",
    "Beta0, Beta1 = model3.params\n",
    "X_plot = np.linspace(1,5,5)\n",
    "plt.plot(X_plot, X_plot*Beta1 + Beta0, linewidth = 3.0)\n"
   ]
  },
  {
   "cell_type": "markdown",
   "metadata": {},
   "source": [
    "# Overall Rating and 3-Star Reviews"
   ]
  },
  {
   "cell_type": "code",
   "execution_count": 13,
   "metadata": {},
   "outputs": [],
   "source": [
    "x = df_complete.groupby(['stars','stars_review'], as_index = False).count()"
   ]
  },
  {
   "cell_type": "code",
   "execution_count": 14,
   "metadata": {},
   "outputs": [],
   "source": [
    "## calculating percetage of each review rating for restaurants of every level\n",
    "\n",
    "x['rating_pct'] = 5\n",
    "totall = []\n",
    "yyy = []\n",
    "rating_pct = []\n",
    "for y in x.stars.unique():\n",
    "    mask = x['stars'] == y\n",
    "    total = x[mask]['business_id'].sum()\n",
    "    totall.append(total)   \n",
    "    yyy.append(y)\n",
    "    for i in x[mask].index:\n",
    "        pct = x[mask]['business_id'][i]/float(total)\n",
    "        rating_pct.append(pct)\n",
    "        \n",
    "#print rating_pct"
   ]
  },
  {
   "cell_type": "code",
   "execution_count": 15,
   "metadata": {},
   "outputs": [],
   "source": [
    "x['rating_pct'] = rating_pct"
   ]
  },
  {
   "cell_type": "code",
   "execution_count": 16,
   "metadata": {},
   "outputs": [],
   "source": [
    "mask2 = x['stars_review'] == 3\n"
   ]
  },
  {
   "cell_type": "markdown",
   "metadata": {
    "collapsed": true
   },
   "source": [
    "# Regression: Overall Rating and percentages of 3-star reviews"
   ]
  },
  {
   "cell_type": "code",
   "execution_count": 17,
   "metadata": {},
   "outputs": [
    {
     "name": "stderr",
     "output_type": "stream",
     "text": [
      "/Users/liupei-pei/anaconda/lib/python2.7/site-packages/scipy/stats/stats.py:1334: UserWarning: kurtosistest only valid for n>=20 ... continuing anyway, n=9\n",
      "  \"anyway, n=%i\" % int(n))\n"
     ]
    },
    {
     "data": {
      "text/html": [
       "<table class=\"simpletable\">\n",
       "<caption>OLS Regression Results</caption>\n",
       "<tr>\n",
       "  <th>Dep. Variable:</th>       <td>rating_pct</td>    <th>  R-squared:         </th> <td>   0.000</td> \n",
       "</tr>\n",
       "<tr>\n",
       "  <th>Model:</th>                   <td>OLS</td>       <th>  Adj. R-squared:    </th> <td>  -0.143</td> \n",
       "</tr>\n",
       "<tr>\n",
       "  <th>Method:</th>             <td>Least Squares</td>  <th>  F-statistic:       </th> <td>1.074e-05</td>\n",
       "</tr>\n",
       "<tr>\n",
       "  <th>Date:</th>             <td>Sun, 13 May 2018</td> <th>  Prob (F-statistic):</th>  <td> 0.997</td>  \n",
       "</tr>\n",
       "<tr>\n",
       "  <th>Time:</th>                 <td>20:23:01</td>     <th>  Log-Likelihood:    </th> <td>  12.148</td> \n",
       "</tr>\n",
       "<tr>\n",
       "  <th>No. Observations:</th>      <td>     9</td>      <th>  AIC:               </th> <td>  -20.30</td> \n",
       "</tr>\n",
       "<tr>\n",
       "  <th>Df Residuals:</th>          <td>     7</td>      <th>  BIC:               </th> <td>  -19.90</td> \n",
       "</tr>\n",
       "<tr>\n",
       "  <th>Df Model:</th>              <td>     1</td>      <th>                     </th>     <td> </td>    \n",
       "</tr>\n",
       "<tr>\n",
       "  <th>Covariance Type:</th>      <td>nonrobust</td>    <th>                     </th>     <td> </td>    \n",
       "</tr>\n",
       "</table>\n",
       "<table class=\"simpletable\">\n",
       "<tr>\n",
       "    <td></td>       <th>coef</th>     <th>std err</th>      <th>t</th>      <th>P>|t|</th>  <th>[0.025</th>    <th>0.975]</th>  \n",
       "</tr>\n",
       "<tr>\n",
       "  <th>const</th> <td>    0.0956</td> <td>    0.060</td> <td>    1.593</td> <td> 0.155</td> <td>   -0.046</td> <td>    0.237</td>\n",
       "</tr>\n",
       "<tr>\n",
       "  <th>stars</th> <td> -6.02e-05</td> <td>    0.018</td> <td>   -0.003</td> <td> 0.997</td> <td>   -0.043</td> <td>    0.043</td>\n",
       "</tr>\n",
       "</table>\n",
       "<table class=\"simpletable\">\n",
       "<tr>\n",
       "  <th>Omnibus:</th>       <td> 1.196</td> <th>  Durbin-Watson:     </th> <td>   0.497</td>\n",
       "</tr>\n",
       "<tr>\n",
       "  <th>Prob(Omnibus):</th> <td> 0.550</td> <th>  Jarque-Bera (JB):  </th> <td>   0.675</td>\n",
       "</tr>\n",
       "<tr>\n",
       "  <th>Skew:</th>          <td>-0.174</td> <th>  Prob(JB):          </th> <td>   0.713</td>\n",
       "</tr>\n",
       "<tr>\n",
       "  <th>Kurtosis:</th>      <td> 1.704</td> <th>  Cond. No.          </th> <td>    8.92</td>\n",
       "</tr>\n",
       "</table>"
      ],
      "text/plain": [
       "<class 'statsmodels.iolib.summary.Summary'>\n",
       "\"\"\"\n",
       "                            OLS Regression Results                            \n",
       "==============================================================================\n",
       "Dep. Variable:             rating_pct   R-squared:                       0.000\n",
       "Model:                            OLS   Adj. R-squared:                 -0.143\n",
       "Method:                 Least Squares   F-statistic:                 1.074e-05\n",
       "Date:                Sun, 13 May 2018   Prob (F-statistic):              0.997\n",
       "Time:                        20:23:01   Log-Likelihood:                 12.148\n",
       "No. Observations:                   9   AIC:                            -20.30\n",
       "Df Residuals:                       7   BIC:                            -19.90\n",
       "Df Model:                           1                                         \n",
       "Covariance Type:            nonrobust                                         \n",
       "==============================================================================\n",
       "                 coef    std err          t      P>|t|      [0.025      0.975]\n",
       "------------------------------------------------------------------------------\n",
       "const          0.0956      0.060      1.593      0.155      -0.046       0.237\n",
       "stars       -6.02e-05      0.018     -0.003      0.997      -0.043       0.043\n",
       "==============================================================================\n",
       "Omnibus:                        1.196   Durbin-Watson:                   0.497\n",
       "Prob(Omnibus):                  0.550   Jarque-Bera (JB):                0.675\n",
       "Skew:                          -0.174   Prob(JB):                        0.713\n",
       "Kurtosis:                       1.704   Cond. No.                         8.92\n",
       "==============================================================================\n",
       "\n",
       "Warnings:\n",
       "[1] Standard Errors assume that the covariance matrix of the errors is correctly specified.\n",
       "\"\"\""
      ]
     },
     "execution_count": 17,
     "metadata": {},
     "output_type": "execute_result"
    }
   ],
   "source": [
    "import statsmodels.api as sm\n",
    "x1 = x[mask2]['stars']\n",
    "y1 = x[mask2]['rating_pct']\n",
    "x1 = sm.add_constant(x1)\n",
    "model = sm.OLS(y1, x1).fit()\n",
    "model.summary()\n",
    "# Results: All restaurants are equally likely to get 3-star reviews"
   ]
  },
  {
   "cell_type": "markdown",
   "metadata": {},
   "source": [
    "# Figure 3: Overall Rating and percentages of 3-star reviews"
   ]
  },
  {
   "cell_type": "code",
   "execution_count": 56,
   "metadata": {},
   "outputs": [
    {
     "data": {
      "text/plain": [
       "([<matplotlib.axis.XTick at 0x118c00c10>,\n",
       "  <matplotlib.axis.XTick at 0x118d02ed0>,\n",
       "  <matplotlib.axis.XTick at 0x118dc4c10>,\n",
       "  <matplotlib.axis.XTick at 0x118de0cd0>,\n",
       "  <matplotlib.axis.XTick at 0x118de5410>,\n",
       "  <matplotlib.axis.XTick at 0x118de5b10>,\n",
       "  <matplotlib.axis.XTick at 0x118e8d250>,\n",
       "  <matplotlib.axis.XTick at 0x118e8d950>,\n",
       "  <matplotlib.axis.XTick at 0x118e92090>],\n",
       " <a list of 9 Text xticklabel objects>)"
      ]
     },
     "execution_count": 56,
     "metadata": {},
     "output_type": "execute_result"
    },
    {
     "data": {
      "image/png": "[encoded data removed]",
      "text/plain": [
       "<matplotlib.figure.Figure at 0x118c1ef10>"
      ]
     },
     "metadata": {},
     "output_type": "display_data"
    }
   ],
   "source": [
    "# Plot 3-star percentage across overall ratings\n",
    "colors = plt.cm.GnBu(np.linspace(0.3,0.8,len(x1))) # use pretty color\n",
    "plot3 = plt.bar(x[mask2]['stars'].values, x[mask2]['rating_pct'].values, color = colors, width = 0.45)\n",
    "plt.xlabel('Overall Rating')\n",
    "plt.ylabel('Percentage of 3-Star Review')\n",
    "plt.xticks(np.arange(1, 5.5, 0.5))\n",
    "#plt.title('Percentage of Different Rating')"
   ]
  }
 ],
 "metadata": {
  "kernelspec": {
   "display_name": "Python 2",
   "language": "python",
   "name": "python2"
  },
  "language_info": {
   "codemirror_mode": {
    "name": "ipython",
    "version": 2
   },
   "file_extension": ".py",
   "mimetype": "text/x-python",
   "name": "python",
   "nbconvert_exporter": "python",
   "pygments_lexer": "ipython2",
   "version": "2.7.13"
  }
 },
 "nbformat": 4,
 "nbformat_minor": 2
}
