{
 "cells": [
  {
   "cell_type": "code",
   "execution_count": 2,
   "metadata": {
    "collapsed": true
   },
   "outputs": [],
   "source": [
    "%matplotlib inline\n",
    "import numpy as np\n",
    "import matplotlib.pyplot as plt"
   ]
  },
  {
   "cell_type": "code",
   "execution_count": 3,
   "metadata": {
    "collapsed": true
   },
   "outputs": [],
   "source": [
    "import pandas as pd\n",
    "import json\n"
   ]
  },
  {
   "cell_type": "markdown",
   "metadata": {},
   "source": [
    "## Load all reviews to dataframe"
   ]
  },
  {
   "cell_type": "code",
   "execution_count": 8,
   "metadata": {
    "collapsed": true
   },
   "outputs": [],
   "source": [
    "# read in all reviews\n",
    "with open('review.json') as json_file:      \n",
    "    data = json_file.readlines()\n",
    "    # this line below may take at least 8-10 minutes of processing for 4-5 million rows. It converts all strings in list to actual json objects. \n",
    "    data = list(map(json.loads, data)) # map converts data from str to dict\n",
    "\n",
    "df = pd.DataFrame(data)"
   ]
  },
  {
   "cell_type": "markdown",
   "metadata": {},
   "source": [
    "## Get first 10K rows to a smaller file"
   ]
  },
  {
   "cell_type": "code",
   "execution_count": null,
   "metadata": {
    "collapsed": true
   },
   "outputs": [],
   "source": [
    "df[:10000].to_json('review-10k.json')"
   ]
  },
  {
   "cell_type": "code",
   "execution_count": 5,
   "metadata": {
    "collapsed": true
   },
   "outputs": [],
   "source": [
    "df_review = pd.read_json('review-10k.json', lines = True) "
   ]
  },
  {
   "cell_type": "markdown",
   "metadata": {},
   "source": [
    "### each column is now a dict in one row... so need to convert each dict to a dataframe and then merge all dataframes"
   ]
  },
  {
   "cell_type": "code",
   "execution_count": 16,
   "metadata": {
    "scrolled": true
   },
   "outputs": [
    {
     "data": {
      "text/html": [
       "<div>\n",
       "<style scoped>\n",
       "    .dataframe tbody tr th:only-of-type {\n",
       "        vertical-align: middle;\n",
       "    }\n",
       "\n",
       "    .dataframe tbody tr th {\n",
       "        vertical-align: top;\n",
       "    }\n",
       "\n",
       "    .dataframe thead th {\n",
       "        text-align: right;\n",
       "    }\n",
       "</style>\n",
       "<table border=\"1\" class=\"dataframe\">\n",
       "  <thead>\n",
       "    <tr style=\"text-align: right;\">\n",
       "      <th></th>\n",
       "      <th>business_id</th>\n",
       "      <th>cool</th>\n",
       "      <th>date</th>\n",
       "      <th>funny</th>\n",
       "      <th>review_id</th>\n",
       "      <th>stars</th>\n",
       "      <th>text</th>\n",
       "      <th>useful</th>\n",
       "      <th>user_id</th>\n",
       "    </tr>\n",
       "  </thead>\n",
       "  <tbody>\n",
       "    <tr>\n",
       "      <th>0</th>\n",
       "      <td>{u'5988': u'HnbkGxUs7oWKYDeB-Pk82Q', u'5989': ...</td>\n",
       "      <td>{u'5988': 0, u'5989': 0, u'5982': 1, u'5983': ...</td>\n",
       "      <td>{u'5988': u'2010-09-25', u'5989': u'2011-09-16...</td>\n",
       "      <td>{u'5988': 0, u'5989': 0, u'5982': 1, u'5983': ...</td>\n",
       "      <td>{u'5988': u'bQrOhGZ9jePmB-0KEP1Lug', u'5989': ...</td>\n",
       "      <td>{u'5988': 4, u'5989': 4, u'5982': 5, u'5983': ...</td>\n",
       "      <td>{u'5988': u'Affogato! Yes. I needed that littl...</td>\n",
       "      <td>{u'5988': 0, u'5989': 0, u'5982': 6, u'5983': ...</td>\n",
       "      <td>{u'5988': u'cvzKVWaGFysF1iZ1RUvsBg', u'5989': ...</td>\n",
       "    </tr>\n",
       "  </tbody>\n",
       "</table>\n",
       "</div>"
      ],
      "text/plain": [
       "                                         business_id  \\\n",
       "0  {u'5988': u'HnbkGxUs7oWKYDeB-Pk82Q', u'5989': ...   \n",
       "\n",
       "                                                cool  \\\n",
       "0  {u'5988': 0, u'5989': 0, u'5982': 1, u'5983': ...   \n",
       "\n",
       "                                                date  \\\n",
       "0  {u'5988': u'2010-09-25', u'5989': u'2011-09-16...   \n",
       "\n",
       "                                               funny  \\\n",
       "0  {u'5988': 0, u'5989': 0, u'5982': 1, u'5983': ...   \n",
       "\n",
       "                                           review_id  \\\n",
       "0  {u'5988': u'bQrOhGZ9jePmB-0KEP1Lug', u'5989': ...   \n",
       "\n",
       "                                               stars  \\\n",
       "0  {u'5988': 4, u'5989': 4, u'5982': 5, u'5983': ...   \n",
       "\n",
       "                                                text  \\\n",
       "0  {u'5988': u'Affogato! Yes. I needed that littl...   \n",
       "\n",
       "                                              useful  \\\n",
       "0  {u'5988': 0, u'5989': 0, u'5982': 6, u'5983': ...   \n",
       "\n",
       "                                             user_id  \n",
       "0  {u'5988': u'cvzKVWaGFysF1iZ1RUvsBg', u'5989': ...  "
      ]
     },
     "execution_count": 16,
     "metadata": {},
     "output_type": "execute_result"
    }
   ],
   "source": [
    "df_review"
   ]
  },
  {
   "cell_type": "code",
   "execution_count": 31,
   "metadata": {
    "scrolled": true
   },
   "outputs": [
    {
     "data": {
      "text/html": [
       "<div>\n",
       "<style scoped>\n",
       "    .dataframe tbody tr th:only-of-type {\n",
       "        vertical-align: middle;\n",
       "    }\n",
       "\n",
       "    .dataframe tbody tr th {\n",
       "        vertical-align: top;\n",
       "    }\n",
       "\n",
       "    .dataframe thead th {\n",
       "        text-align: right;\n",
       "    }\n",
       "</style>\n",
       "<table border=\"1\" class=\"dataframe\">\n",
       "  <thead>\n",
       "    <tr style=\"text-align: right;\">\n",
       "      <th></th>\n",
       "      <th>business_id</th>\n",
       "      <th>cool</th>\n",
       "    </tr>\n",
       "  </thead>\n",
       "  <tbody>\n",
       "    <tr>\n",
       "      <th>5988</th>\n",
       "      <td>HnbkGxUs7oWKYDeB-Pk82Q</td>\n",
       "      <td>0</td>\n",
       "    </tr>\n",
       "    <tr>\n",
       "      <th>5989</th>\n",
       "      <td>Ehy00JWQixgoXzisVKhvag</td>\n",
       "      <td>0</td>\n",
       "    </tr>\n",
       "    <tr>\n",
       "      <th>5982</th>\n",
       "      <td>2BuY5r2GWoai6IAn9FptCg</td>\n",
       "      <td>1</td>\n",
       "    </tr>\n",
       "    <tr>\n",
       "      <th>5983</th>\n",
       "      <td>5iSmZO0SrKU6EoXK_1M8Kw</td>\n",
       "      <td>2</td>\n",
       "    </tr>\n",
       "    <tr>\n",
       "      <th>5980</th>\n",
       "      <td>Qx36_lVL-nPThPRzk9VGag</td>\n",
       "      <td>10</td>\n",
       "    </tr>\n",
       "    <tr>\n",
       "      <th>5981</th>\n",
       "      <td>eoHdUeQDNgQ6WYEnP2aiRw</td>\n",
       "      <td>0</td>\n",
       "    </tr>\n",
       "    <tr>\n",
       "      <th>5986</th>\n",
       "      <td>6w4eiiy13RdWVcRIwxWBXQ</td>\n",
       "      <td>0</td>\n",
       "    </tr>\n",
       "    <tr>\n",
       "      <th>5987</th>\n",
       "      <td>qb-XyoTeyCXv3Z8hricyAA</td>\n",
       "      <td>0</td>\n",
       "    </tr>\n",
       "    <tr>\n",
       "      <th>5984</th>\n",
       "      <td>xv71h5LvRsMma4wpwypiQw</td>\n",
       "      <td>3</td>\n",
       "    </tr>\n",
       "    <tr>\n",
       "      <th>5985</th>\n",
       "      <td>Xr__BZovUzjwkNd9FDCeJA</td>\n",
       "      <td>2</td>\n",
       "    </tr>\n",
       "    <tr>\n",
       "      <th>6796</th>\n",
       "      <td>l4pAkHCVUKAcDvo-iNSbYA</td>\n",
       "      <td>0</td>\n",
       "    </tr>\n",
       "    <tr>\n",
       "      <th>6797</th>\n",
       "      <td>CmgNyXaBPsn6hLLtWPL_qg</td>\n",
       "      <td>0</td>\n",
       "    </tr>\n",
       "    <tr>\n",
       "      <th>6794</th>\n",
       "      <td>sZkmUH_oRUhCgb4uhoS-zQ</td>\n",
       "      <td>0</td>\n",
       "    </tr>\n",
       "    <tr>\n",
       "      <th>6795</th>\n",
       "      <td>0HgLKI1T9WT3hJXskDtUrQ</td>\n",
       "      <td>0</td>\n",
       "    </tr>\n",
       "    <tr>\n",
       "      <th>6792</th>\n",
       "      <td>so5zDDBvYTMjqpd0Tb8yqw</td>\n",
       "      <td>0</td>\n",
       "    </tr>\n",
       "    <tr>\n",
       "      <th>6793</th>\n",
       "      <td>jayJIsjK3tUi8Kg4-8MNdg</td>\n",
       "      <td>0</td>\n",
       "    </tr>\n",
       "    <tr>\n",
       "      <th>6790</th>\n",
       "      <td>4WO9k2aFkSdbsDIjpp3j8w</td>\n",
       "      <td>0</td>\n",
       "    </tr>\n",
       "    <tr>\n",
       "      <th>6791</th>\n",
       "      <td>W70JrBKLDFV86PpgFu5m8Q</td>\n",
       "      <td>0</td>\n",
       "    </tr>\n",
       "    <tr>\n",
       "      <th>6798</th>\n",
       "      <td>N0l4hT7UCywbZ9UEZ1R9kQ</td>\n",
       "      <td>0</td>\n",
       "    </tr>\n",
       "    <tr>\n",
       "      <th>6799</th>\n",
       "      <td>8mKV3KThn3wXGL3OVxrCNg</td>\n",
       "      <td>0</td>\n",
       "    </tr>\n",
       "    <tr>\n",
       "      <th>6294</th>\n",
       "      <td>hMKGFZMmho5frQThLUJDLQ</td>\n",
       "      <td>1</td>\n",
       "    </tr>\n",
       "    <tr>\n",
       "      <th>270</th>\n",
       "      <td>UaoOIiwPF_rp2BWYD-HkPQ</td>\n",
       "      <td>0</td>\n",
       "    </tr>\n",
       "    <tr>\n",
       "      <th>271</th>\n",
       "      <td>bbHE-NRab0v-iz5FH_7_Gg</td>\n",
       "      <td>0</td>\n",
       "    </tr>\n",
       "    <tr>\n",
       "      <th>272</th>\n",
       "      <td>jMrpr92nMEhe4cC4FF00VQ</td>\n",
       "      <td>1</td>\n",
       "    </tr>\n",
       "    <tr>\n",
       "      <th>273</th>\n",
       "      <td>fcUZ0HlaO1bMW26tzQZVOQ</td>\n",
       "      <td>0</td>\n",
       "    </tr>\n",
       "    <tr>\n",
       "      <th>274</th>\n",
       "      <td>48OQw36mJ_xhOvR7duH1kg</td>\n",
       "      <td>1</td>\n",
       "    </tr>\n",
       "    <tr>\n",
       "      <th>275</th>\n",
       "      <td>X6TD8xLS_KMneyOGquOSVQ</td>\n",
       "      <td>0</td>\n",
       "    </tr>\n",
       "    <tr>\n",
       "      <th>276</th>\n",
       "      <td>_R-rjgz4Kwi4f3u0clFeKg</td>\n",
       "      <td>0</td>\n",
       "    </tr>\n",
       "    <tr>\n",
       "      <th>277</th>\n",
       "      <td>PSRZaGGxXmOmabL2si8pKw</td>\n",
       "      <td>0</td>\n",
       "    </tr>\n",
       "    <tr>\n",
       "      <th>278</th>\n",
       "      <td>-jGA3ADqqv0PyB7Mbo-Zsw</td>\n",
       "      <td>0</td>\n",
       "    </tr>\n",
       "    <tr>\n",
       "      <th>...</th>\n",
       "      <td>...</td>\n",
       "      <td>...</td>\n",
       "    </tr>\n",
       "    <tr>\n",
       "      <th>1561</th>\n",
       "      <td>566Si6H4elSwGXsrQDjXdg</td>\n",
       "      <td>2</td>\n",
       "    </tr>\n",
       "    <tr>\n",
       "      <th>1562</th>\n",
       "      <td>ZpRdIZqXGoaS3I8s0Bvw-w</td>\n",
       "      <td>0</td>\n",
       "    </tr>\n",
       "    <tr>\n",
       "      <th>1563</th>\n",
       "      <td>g15vs-93cq1IC2XSkZEmbA</td>\n",
       "      <td>0</td>\n",
       "    </tr>\n",
       "    <tr>\n",
       "      <th>1564</th>\n",
       "      <td>jJkZI18pCM93sBNdy_kdWQ</td>\n",
       "      <td>0</td>\n",
       "    </tr>\n",
       "    <tr>\n",
       "      <th>1565</th>\n",
       "      <td>JBX0Bd9Va4_MtLPwX9Oosg</td>\n",
       "      <td>0</td>\n",
       "    </tr>\n",
       "    <tr>\n",
       "      <th>1566</th>\n",
       "      <td>VY-D9VEkUofLv1meT6gx0Q</td>\n",
       "      <td>1</td>\n",
       "    </tr>\n",
       "    <tr>\n",
       "      <th>1567</th>\n",
       "      <td>enlQ74b5608cB8F2maFllA</td>\n",
       "      <td>0</td>\n",
       "    </tr>\n",
       "    <tr>\n",
       "      <th>7462</th>\n",
       "      <td>nK4PaQEpSXW6-2F_hID6pg</td>\n",
       "      <td>1</td>\n",
       "    </tr>\n",
       "    <tr>\n",
       "      <th>7460</th>\n",
       "      <td>7cK9uEV09iPmsTqOqmY3kQ</td>\n",
       "      <td>1</td>\n",
       "    </tr>\n",
       "    <tr>\n",
       "      <th>5638</th>\n",
       "      <td>ObelBwE40B5oYm2aA8yTjw</td>\n",
       "      <td>0</td>\n",
       "    </tr>\n",
       "    <tr>\n",
       "      <th>5639</th>\n",
       "      <td>FI7RsrAxVdiDEuSKlYql1w</td>\n",
       "      <td>1</td>\n",
       "    </tr>\n",
       "    <tr>\n",
       "      <th>5634</th>\n",
       "      <td>_OHKWBpmnQPTL3LouExL7g</td>\n",
       "      <td>0</td>\n",
       "    </tr>\n",
       "    <tr>\n",
       "      <th>5635</th>\n",
       "      <td>CuT2Xh3vAYvRfxUWlUo6oA</td>\n",
       "      <td>0</td>\n",
       "    </tr>\n",
       "    <tr>\n",
       "      <th>5636</th>\n",
       "      <td>wR0cA2eOzctBPdPX8t5BBQ</td>\n",
       "      <td>0</td>\n",
       "    </tr>\n",
       "    <tr>\n",
       "      <th>5637</th>\n",
       "      <td>7W_PUqiBmoe2PVFGQ1ZBOg</td>\n",
       "      <td>1</td>\n",
       "    </tr>\n",
       "    <tr>\n",
       "      <th>5630</th>\n",
       "      <td>JFaTPxWQC14VmFnXLv7W1g</td>\n",
       "      <td>0</td>\n",
       "    </tr>\n",
       "    <tr>\n",
       "      <th>5631</th>\n",
       "      <td>RMEzxhYfpnEsWlfozit_xw</td>\n",
       "      <td>0</td>\n",
       "    </tr>\n",
       "    <tr>\n",
       "      <th>5632</th>\n",
       "      <td>spfVKWaZYdJkwHXSwK3BkQ</td>\n",
       "      <td>0</td>\n",
       "    </tr>\n",
       "    <tr>\n",
       "      <th>5633</th>\n",
       "      <td>cKdox2gt3L1Dbb7MpOPdWg</td>\n",
       "      <td>0</td>\n",
       "    </tr>\n",
       "    <tr>\n",
       "      <th>8480</th>\n",
       "      <td>Lw2vlPixPe72lDp9Cx6GoA</td>\n",
       "      <td>0</td>\n",
       "    </tr>\n",
       "    <tr>\n",
       "      <th>8481</th>\n",
       "      <td>qVhFe0aIoNSBxfLReS3-PQ</td>\n",
       "      <td>0</td>\n",
       "    </tr>\n",
       "    <tr>\n",
       "      <th>8482</th>\n",
       "      <td>gHngt6zpP683GKe1i23LUg</td>\n",
       "      <td>0</td>\n",
       "    </tr>\n",
       "    <tr>\n",
       "      <th>8483</th>\n",
       "      <td>Ef9crW61OYp2UJ0ysi3nEw</td>\n",
       "      <td>0</td>\n",
       "    </tr>\n",
       "    <tr>\n",
       "      <th>8484</th>\n",
       "      <td>5-wiVRTpKwhz2wKxNS-JzA</td>\n",
       "      <td>0</td>\n",
       "    </tr>\n",
       "    <tr>\n",
       "      <th>8485</th>\n",
       "      <td>8L8QlR4XJeAblTKCqoDP0A</td>\n",
       "      <td>0</td>\n",
       "    </tr>\n",
       "    <tr>\n",
       "      <th>8486</th>\n",
       "      <td>vXEZ-r6fah-5Fjt3a6c-Gw</td>\n",
       "      <td>0</td>\n",
       "    </tr>\n",
       "    <tr>\n",
       "      <th>8487</th>\n",
       "      <td>A44mlGd0PSQRVSIIWIH4mg</td>\n",
       "      <td>2</td>\n",
       "    </tr>\n",
       "    <tr>\n",
       "      <th>8488</th>\n",
       "      <td>Xz5tTSD3X3gACOiVn101tQ</td>\n",
       "      <td>0</td>\n",
       "    </tr>\n",
       "    <tr>\n",
       "      <th>8489</th>\n",
       "      <td>4GUXkFjJL5SEZK-qtDZSKA</td>\n",
       "      <td>0</td>\n",
       "    </tr>\n",
       "    <tr>\n",
       "      <th>7464</th>\n",
       "      <td>MAUTYES01tZGlZzAOCSnng</td>\n",
       "      <td>2</td>\n",
       "    </tr>\n",
       "  </tbody>\n",
       "</table>\n",
       "<p>10000 rows × 2 columns</p>\n",
       "</div>"
      ],
      "text/plain": [
       "                 business_id  cool\n",
       "5988  HnbkGxUs7oWKYDeB-Pk82Q     0\n",
       "5989  Ehy00JWQixgoXzisVKhvag     0\n",
       "5982  2BuY5r2GWoai6IAn9FptCg     1\n",
       "5983  5iSmZO0SrKU6EoXK_1M8Kw     2\n",
       "5980  Qx36_lVL-nPThPRzk9VGag    10\n",
       "5981  eoHdUeQDNgQ6WYEnP2aiRw     0\n",
       "5986  6w4eiiy13RdWVcRIwxWBXQ     0\n",
       "5987  qb-XyoTeyCXv3Z8hricyAA     0\n",
       "5984  xv71h5LvRsMma4wpwypiQw     3\n",
       "5985  Xr__BZovUzjwkNd9FDCeJA     2\n",
       "6796  l4pAkHCVUKAcDvo-iNSbYA     0\n",
       "6797  CmgNyXaBPsn6hLLtWPL_qg     0\n",
       "6794  sZkmUH_oRUhCgb4uhoS-zQ     0\n",
       "6795  0HgLKI1T9WT3hJXskDtUrQ     0\n",
       "6792  so5zDDBvYTMjqpd0Tb8yqw     0\n",
       "6793  jayJIsjK3tUi8Kg4-8MNdg     0\n",
       "6790  4WO9k2aFkSdbsDIjpp3j8w     0\n",
       "6791  W70JrBKLDFV86PpgFu5m8Q     0\n",
       "6798  N0l4hT7UCywbZ9UEZ1R9kQ     0\n",
       "6799  8mKV3KThn3wXGL3OVxrCNg     0\n",
       "6294  hMKGFZMmho5frQThLUJDLQ     1\n",
       "270   UaoOIiwPF_rp2BWYD-HkPQ     0\n",
       "271   bbHE-NRab0v-iz5FH_7_Gg     0\n",
       "272   jMrpr92nMEhe4cC4FF00VQ     1\n",
       "273   fcUZ0HlaO1bMW26tzQZVOQ     0\n",
       "274   48OQw36mJ_xhOvR7duH1kg     1\n",
       "275   X6TD8xLS_KMneyOGquOSVQ     0\n",
       "276   _R-rjgz4Kwi4f3u0clFeKg     0\n",
       "277   PSRZaGGxXmOmabL2si8pKw     0\n",
       "278   -jGA3ADqqv0PyB7Mbo-Zsw     0\n",
       "...                      ...   ...\n",
       "1561  566Si6H4elSwGXsrQDjXdg     2\n",
       "1562  ZpRdIZqXGoaS3I8s0Bvw-w     0\n",
       "1563  g15vs-93cq1IC2XSkZEmbA     0\n",
       "1564  jJkZI18pCM93sBNdy_kdWQ     0\n",
       "1565  JBX0Bd9Va4_MtLPwX9Oosg     0\n",
       "1566  VY-D9VEkUofLv1meT6gx0Q     1\n",
       "1567  enlQ74b5608cB8F2maFllA     0\n",
       "7462  nK4PaQEpSXW6-2F_hID6pg     1\n",
       "7460  7cK9uEV09iPmsTqOqmY3kQ     1\n",
       "5638  ObelBwE40B5oYm2aA8yTjw     0\n",
       "5639  FI7RsrAxVdiDEuSKlYql1w     1\n",
       "5634  _OHKWBpmnQPTL3LouExL7g     0\n",
       "5635  CuT2Xh3vAYvRfxUWlUo6oA     0\n",
       "5636  wR0cA2eOzctBPdPX8t5BBQ     0\n",
       "5637  7W_PUqiBmoe2PVFGQ1ZBOg     1\n",
       "5630  JFaTPxWQC14VmFnXLv7W1g     0\n",
       "5631  RMEzxhYfpnEsWlfozit_xw     0\n",
       "5632  spfVKWaZYdJkwHXSwK3BkQ     0\n",
       "5633  cKdox2gt3L1Dbb7MpOPdWg     0\n",
       "8480  Lw2vlPixPe72lDp9Cx6GoA     0\n",
       "8481  qVhFe0aIoNSBxfLReS3-PQ     0\n",
       "8482  gHngt6zpP683GKe1i23LUg     0\n",
       "8483  Ef9crW61OYp2UJ0ysi3nEw     0\n",
       "8484  5-wiVRTpKwhz2wKxNS-JzA     0\n",
       "8485  8L8QlR4XJeAblTKCqoDP0A     0\n",
       "8486  vXEZ-r6fah-5Fjt3a6c-Gw     0\n",
       "8487  A44mlGd0PSQRVSIIWIH4mg     2\n",
       "8488  Xz5tTSD3X3gACOiVn101tQ     0\n",
       "8489  4GUXkFjJL5SEZK-qtDZSKA     0\n",
       "7464  MAUTYES01tZGlZzAOCSnng     2\n",
       "\n",
       "[10000 rows x 2 columns]"
      ]
     },
     "execution_count": 31,
     "metadata": {},
     "output_type": "execute_result"
    }
   ],
   "source": [
    "# first convert first dict to dataframe\n",
    "total_df = []\n",
    "i = 'business_id'\n",
    "index_array = df_review[i].values[0].keys()\n",
    "data_array = df_review[i].values[0].values()\n",
    "df_i = pd.DataFrame(data = data_array, index = index_array, columns = [i])\n",
    "total_df = df_i\n"
   ]
  },
  {
   "cell_type": "code",
   "execution_count": 34,
   "metadata": {
    "collapsed": true
   },
   "outputs": [],
   "source": [
    "# then do the same to the remaining columns and merge each one to the first df\n",
    "for i in df_review.columns:\n",
    "    if i == 'business_id':\n",
    "        continue\n",
    "    else:\n",
    "        index_array = df_review[i].values[0].keys()\n",
    "        data_array = df_review[i].values[0].values()\n",
    "        df_i = pd.DataFrame(data = data_array, index = index_array, columns = [i])\n",
    "        total_df = total_df.merge(df_i, left_index = True, right_index = True)"
   ]
  },
  {
   "cell_type": "code",
   "execution_count": 36,
   "metadata": {},
   "outputs": [
    {
     "data": {
      "text/plain": [
       "(10000, 10)"
      ]
     },
     "execution_count": 36,
     "metadata": {},
     "output_type": "execute_result"
    }
   ],
   "source": [
    "# total_df is the df that contains 10k reviews\n",
    "total_df.shape"
   ]
  },
  {
   "cell_type": "markdown",
   "metadata": {
    "collapsed": true
   },
   "source": [
    "## Alternative: Simply read the first 100k rows in the original file into a smaller file in terminal"
   ]
  },
  {
   "cell_type": "code",
   "execution_count": null,
   "metadata": {
    "collapsed": true
   },
   "outputs": [],
   "source": [
    "#Linux code: head -n 100000 review.json > review-sample-100k.json"
   ]
  },
  {
   "cell_type": "code",
   "execution_count": 4,
   "metadata": {},
   "outputs": [
    {
     "ename": "ValueError",
     "evalue": "Expected object or value",
     "output_type": "error",
     "traceback": [
      "\u001b[0;31m---------------------------------------------------------------------------\u001b[0m",
      "\u001b[0;31mValueError\u001b[0m                                Traceback (most recent call last)",
      "\u001b[0;32m<ipython-input-4-0eee0f29b407>\u001b[0m in \u001b[0;36m<module>\u001b[0;34m()\u001b[0m\n\u001b[0;32m----> 1\u001b[0;31m \u001b[0mdf_review\u001b[0m \u001b[0;34m=\u001b[0m \u001b[0mpd\u001b[0m\u001b[0;34m.\u001b[0m\u001b[0mread_json\u001b[0m\u001b[0;34m(\u001b[0m\u001b[0;34m'review-sample-100k.json'\u001b[0m\u001b[0;34m,\u001b[0m \u001b[0mlines\u001b[0m \u001b[0;34m=\u001b[0m \u001b[0mTrue\u001b[0m\u001b[0;34m)\u001b[0m\u001b[0;34m\u001b[0m\u001b[0m\n\u001b[0m",
      "\u001b[0;32m/Users/liupei-pei/anaconda/lib/python2.7/site-packages/pandas/io/json/json.pyc\u001b[0m in \u001b[0;36mread_json\u001b[0;34m(path_or_buf, orient, typ, dtype, convert_axes, convert_dates, keep_default_dates, numpy, precise_float, date_unit, encoding, lines, chunksize, compression)\u001b[0m\n\u001b[1;32m    364\u001b[0m         \u001b[0;32mreturn\u001b[0m \u001b[0mjson_reader\u001b[0m\u001b[0;34m\u001b[0m\u001b[0m\n\u001b[1;32m    365\u001b[0m \u001b[0;34m\u001b[0m\u001b[0m\n\u001b[0;32m--> 366\u001b[0;31m     \u001b[0;32mreturn\u001b[0m \u001b[0mjson_reader\u001b[0m\u001b[0;34m.\u001b[0m\u001b[0mread\u001b[0m\u001b[0;34m(\u001b[0m\u001b[0;34m)\u001b[0m\u001b[0;34m\u001b[0m\u001b[0m\n\u001b[0m\u001b[1;32m    367\u001b[0m \u001b[0;34m\u001b[0m\u001b[0m\n\u001b[1;32m    368\u001b[0m \u001b[0;34m\u001b[0m\u001b[0m\n",
      "\u001b[0;32m/Users/liupei-pei/anaconda/lib/python2.7/site-packages/pandas/io/json/json.pyc\u001b[0m in \u001b[0;36mread\u001b[0;34m(self)\u001b[0m\n\u001b[1;32m    462\u001b[0m             \u001b[0mdata\u001b[0m \u001b[0;34m=\u001b[0m \u001b[0mto_str\u001b[0m\u001b[0;34m(\u001b[0m\u001b[0mself\u001b[0m\u001b[0;34m.\u001b[0m\u001b[0mdata\u001b[0m\u001b[0;34m)\u001b[0m\u001b[0;34m\u001b[0m\u001b[0m\n\u001b[1;32m    463\u001b[0m             obj = self._get_object_parser(\n\u001b[0;32m--> 464\u001b[0;31m                 \u001b[0mself\u001b[0m\u001b[0;34m.\u001b[0m\u001b[0m_combine_lines\u001b[0m\u001b[0;34m(\u001b[0m\u001b[0mdata\u001b[0m\u001b[0;34m.\u001b[0m\u001b[0msplit\u001b[0m\u001b[0;34m(\u001b[0m\u001b[0;34m'\\n'\u001b[0m\u001b[0;34m)\u001b[0m\u001b[0;34m)\u001b[0m\u001b[0;34m\u001b[0m\u001b[0m\n\u001b[0m\u001b[1;32m    465\u001b[0m             )\n\u001b[1;32m    466\u001b[0m         \u001b[0;32melse\u001b[0m\u001b[0;34m:\u001b[0m\u001b[0;34m\u001b[0m\u001b[0m\n",
      "\u001b[0;32m/Users/liupei-pei/anaconda/lib/python2.7/site-packages/pandas/io/json/json.pyc\u001b[0m in \u001b[0;36m_get_object_parser\u001b[0;34m(self, json)\u001b[0m\n\u001b[1;32m    482\u001b[0m         \u001b[0mobj\u001b[0m \u001b[0;34m=\u001b[0m \u001b[0mNone\u001b[0m\u001b[0;34m\u001b[0m\u001b[0m\n\u001b[1;32m    483\u001b[0m         \u001b[0;32mif\u001b[0m \u001b[0mtyp\u001b[0m \u001b[0;34m==\u001b[0m \u001b[0;34m'frame'\u001b[0m\u001b[0;34m:\u001b[0m\u001b[0;34m\u001b[0m\u001b[0m\n\u001b[0;32m--> 484\u001b[0;31m             \u001b[0mobj\u001b[0m \u001b[0;34m=\u001b[0m \u001b[0mFrameParser\u001b[0m\u001b[0;34m(\u001b[0m\u001b[0mjson\u001b[0m\u001b[0;34m,\u001b[0m \u001b[0;34m**\u001b[0m\u001b[0mkwargs\u001b[0m\u001b[0;34m)\u001b[0m\u001b[0;34m.\u001b[0m\u001b[0mparse\u001b[0m\u001b[0;34m(\u001b[0m\u001b[0;34m)\u001b[0m\u001b[0;34m\u001b[0m\u001b[0m\n\u001b[0m\u001b[1;32m    485\u001b[0m \u001b[0;34m\u001b[0m\u001b[0m\n\u001b[1;32m    486\u001b[0m         \u001b[0;32mif\u001b[0m \u001b[0mtyp\u001b[0m \u001b[0;34m==\u001b[0m \u001b[0;34m'series'\u001b[0m \u001b[0;32mor\u001b[0m \u001b[0mobj\u001b[0m \u001b[0;32mis\u001b[0m \u001b[0mNone\u001b[0m\u001b[0;34m:\u001b[0m\u001b[0;34m\u001b[0m\u001b[0m\n",
      "\u001b[0;32m/Users/liupei-pei/anaconda/lib/python2.7/site-packages/pandas/io/json/json.pyc\u001b[0m in \u001b[0;36mparse\u001b[0;34m(self)\u001b[0m\n\u001b[1;32m    574\u001b[0m \u001b[0;34m\u001b[0m\u001b[0m\n\u001b[1;32m    575\u001b[0m         \u001b[0;32melse\u001b[0m\u001b[0;34m:\u001b[0m\u001b[0;34m\u001b[0m\u001b[0m\n\u001b[0;32m--> 576\u001b[0;31m             \u001b[0mself\u001b[0m\u001b[0;34m.\u001b[0m\u001b[0m_parse_no_numpy\u001b[0m\u001b[0;34m(\u001b[0m\u001b[0;34m)\u001b[0m\u001b[0;34m\u001b[0m\u001b[0m\n\u001b[0m\u001b[1;32m    577\u001b[0m \u001b[0;34m\u001b[0m\u001b[0m\n\u001b[1;32m    578\u001b[0m         \u001b[0;32mif\u001b[0m \u001b[0mself\u001b[0m\u001b[0;34m.\u001b[0m\u001b[0mobj\u001b[0m \u001b[0;32mis\u001b[0m \u001b[0mNone\u001b[0m\u001b[0;34m:\u001b[0m\u001b[0;34m\u001b[0m\u001b[0m\n",
      "\u001b[0;32m/Users/liupei-pei/anaconda/lib/python2.7/site-packages/pandas/io/json/json.pyc\u001b[0m in \u001b[0;36m_parse_no_numpy\u001b[0;34m(self)\u001b[0m\n\u001b[1;32m    791\u001b[0m         \u001b[0;32mif\u001b[0m \u001b[0morient\u001b[0m \u001b[0;34m==\u001b[0m \u001b[0;34m\"columns\"\u001b[0m\u001b[0;34m:\u001b[0m\u001b[0;34m\u001b[0m\u001b[0m\n\u001b[1;32m    792\u001b[0m             self.obj = DataFrame(\n\u001b[0;32m--> 793\u001b[0;31m                 loads(json, precise_float=self.precise_float), dtype=None)\n\u001b[0m\u001b[1;32m    794\u001b[0m         \u001b[0;32melif\u001b[0m \u001b[0morient\u001b[0m \u001b[0;34m==\u001b[0m \u001b[0;34m\"split\"\u001b[0m\u001b[0;34m:\u001b[0m\u001b[0;34m\u001b[0m\u001b[0m\n\u001b[1;32m    795\u001b[0m             decoded = dict((str(k), v)\n",
      "\u001b[0;31mValueError\u001b[0m: Expected object or value"
     ]
    }
   ],
   "source": [
    "df_review = pd.read_json('review-sample-100k.json', lines = True)"
   ]
  },
  {
   "cell_type": "markdown",
   "metadata": {},
   "source": [
    "# PLOT 1"
   ]
  },
  {
   "cell_type": "code",
   "execution_count": 85,
   "metadata": {},
   "outputs": [
    {
     "data": {
      "text/plain": [
       "array([ 13.267,   8.309,  11.807,  23.897,  42.72 ])"
      ]
     },
     "execution_count": 85,
     "metadata": {},
     "output_type": "execute_result"
    }
   ],
   "source": [
    "rating = df_review['stars'].value_counts().sort_index()\n",
    "rating_pct = 100.0*rating/sum(rating)\n",
    "# list(rating_pct.index)\n",
    "rating_pct.values"
   ]
  },
  {
   "cell_type": "code",
   "execution_count": 1,
   "metadata": {},
   "outputs": [
    {
     "ename": "NameError",
     "evalue": "name 'rating_pct' is not defined",
     "output_type": "error",
     "traceback": [
      "\u001b[0;31m---------------------------------------------------------------------------\u001b[0m",
      "\u001b[0;31mNameError\u001b[0m                                 Traceback (most recent call last)",
      "\u001b[0;32m<ipython-input-1-6d723702ea0d>\u001b[0m in \u001b[0;36m<module>\u001b[0;34m()\u001b[0m\n\u001b[0;32m----> 1\u001b[0;31m \u001b[0mrating_pct\u001b[0m\u001b[0;34m\u001b[0m\u001b[0m\n\u001b[0m",
      "\u001b[0;31mNameError\u001b[0m: name 'rating_pct' is not defined"
     ]
    }
   ],
   "source": [
    "rating_pct"
   ]
  },
  {
   "cell_type": "code",
   "execution_count": 110,
   "metadata": {},
   "outputs": [
    {
     "data": {
      "text/plain": [
       "<matplotlib.text.Text at 0x1d0e49cd0>"
      ]
     },
     "execution_count": 110,
     "metadata": {},
     "output_type": "execute_result"
    },
    {
     "data": {
      "image/png": "[encoded data removed]",
      "text/plain": [
       "<matplotlib.figure.Figure at 0x1d0d7ef10>"
      ]
     },
     "metadata": {},
     "output_type": "display_data"
    }
   ],
   "source": [
    "# Plot!\n",
    "colors = plt.cm.GnBu(np.linspace(0.3,0.7,len(rating_pct))) # use pretty color\n",
    "plot1 = plt.bar(rating_pct.index, rating_pct.values, color = colors)\n",
    "plt.xlabel('Star Rating')\n",
    "plt.ylabel('Percentage of Rating(%)')\n",
    "plt.title('Percentage of Different Rating')"
   ]
  }
 ],
 "metadata": {
  "kernelspec": {
   "display_name": "Python 2",
   "language": "python",
   "name": "python2"
  },
  "language_info": {
   "codemirror_mode": {
    "name": "ipython",
    "version": 2
   },
   "file_extension": ".py",
   "mimetype": "text/x-python",
   "name": "python",
   "nbconvert_exporter": "python",
   "pygments_lexer": "ipython2",
   "version": "2.7.13"
  }
 },
 "nbformat": 4,
 "nbformat_minor": 2
}
